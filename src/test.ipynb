{
 "cells": [
  {
   "cell_type": "code",
   "execution_count": 4,
   "metadata": {},
   "outputs": [
    {
     "name": "stdout",
     "output_type": "stream",
     "text": [
      "The autoreload extension is already loaded. To reload it, use:\n",
      "  %reload_ext autoreload\n"
     ]
    }
   ],
   "source": [
    "%load_ext autoreload\n",
    "%autoreload 2\n",
    "\n",
    "import numpy as np\n",
    "import pandas as pd\n",
    "from statemanagers.hex_state_manager import HEXStateManager"
   ]
  },
  {
   "cell_type": "code",
   "execution_count": 5,
   "metadata": {},
   "outputs": [],
   "source": [
    "K = 3\n",
    "sm = HEXStateManager(K)\n",
    "state = sm.get_initial_state()\n",
    "# state[1:] = [0, 0, -1, 0, -1, 0, -1, 0, 0]\n",
    "# state[1:] = [-1, 0, -1, 1, 1, 1, -1, -1, 0, 1, 0, 0, 1, -1, 0, 0]\n",
    "state[1:] = [-1, 0, -1, 1, 1, -1, 0, 1, 0]\n",
    "board = np.array(state[1:]).reshape(K, K)\n",
    "\n",
    "pd.DataFrame(board)\n",
    "\n",
    "def transform_state(state):\n",
    "    board = np.array(state[1:]).reshape(K, K)\n",
    "    print(board)\n",
    "    board = board.T * -1\n",
    "    print(board)\n",
    "    return [state[0], *list(board.ravel())]\n"
   ]
  },
  {
   "cell_type": "code",
   "execution_count": 9,
   "metadata": {},
   "outputs": [
    {
     "data": {
      "text/plain": [
       "array([ True,  True,  True,  True,  True,  True,  True,  True,  True])"
      ]
     },
     "execution_count": 9,
     "metadata": {},
     "output_type": "execute_result"
    }
   ],
   "source": [
    "(board.ravel())[::-1] == (np.rot90(board, k=2).ravel())"
   ]
  },
  {
   "cell_type": "code",
   "execution_count": 30,
   "metadata": {},
   "outputs": [
    {
     "data": {
      "text/plain": [
       "False"
      ]
     },
     "execution_count": 30,
     "metadata": {},
     "output_type": "execute_result"
    }
   ],
   "source": [
    "sm.is_final([1, *list(board.ravel())])"
   ]
  },
  {
   "cell_type": "code",
   "execution_count": 35,
   "metadata": {},
   "outputs": [
    {
     "name": "stdout",
     "output_type": "stream",
     "text": [
      "[[-1  0 -1]\n",
      " [ 1  1 -1]\n",
      " [ 0  1  0]]\n",
      "[[ 1 -1  0]\n",
      " [ 0 -1 -1]\n",
      " [ 1  1  0]]\n"
     ]
    }
   ],
   "source": [
    "new_state = transform_state(state)\n",
    "# sm.render_state(state)\n",
    "sm.render_state(new_state)\n"
   ]
  }
 ],
 "metadata": {
  "interpreter": {
   "hash": "7495fb8346b633710c7196930941d8c0829151e2ddf003ce900ec0784ed72a2f"
  },
  "kernelspec": {
   "display_name": "Python 3.8.5 64-bit",
   "language": "python",
   "name": "python3"
  },
  "language_info": {
   "codemirror_mode": {
    "name": "ipython",
    "version": 3
   },
   "file_extension": ".py",
   "mimetype": "text/x-python",
   "name": "python",
   "nbconvert_exporter": "python",
   "pygments_lexer": "ipython3",
   "version": "3.8.5"
  },
  "orig_nbformat": 4
 },
 "nbformat": 4,
 "nbformat_minor": 2
}
